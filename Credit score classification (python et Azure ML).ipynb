{
 "cells": [
  {
   "cell_type": "markdown",
   "id": "0f080b7b-37fd-418d-8733-10051bd5e80e",
   "metadata": {},
   "source": [
    "***CREDIT SCORE CLASSIFICATION***"
   ]
  },
  {
   "cell_type": "markdown",
   "id": "b9794c90-88e5-40d6-b4a3-12b42d1f5f65",
   "metadata": {},
   "source": [
    "***Préparation des données***"
   ]
  },
  {
   "cell_type": "code",
   "execution_count": 45,
   "id": "7dd71d6a-007e-47dd-b5c5-61f4164729bc",
   "metadata": {},
   "outputs": [],
   "source": [
    "import pandas as pd\n",
    "from sklearn.model_selection import train_test_split\n",
    "from sklearn.preprocessing import LabelEncoder, StandardScaler\n",
    "\n",
    "# Chargement\n",
    "df = pd.read_csv(\"Credit Score Classification Dataset.csv\")\n",
    "\n",
    "# Encodage des colonnes catégorielles\n",
    "categorical_cols = ['Gender', 'Education', 'Marital Status', 'Home Ownership']\n",
    "label_encoders = {}\n",
    "\n",
    "for col in categorical_cols:\n",
    "    le = LabelEncoder()\n",
    "    df[col] = le.fit_transform(df[col])\n",
    "    label_encoders[col] = le\n",
    "\n",
    "# Encodage de la cible\n",
    "target_le = LabelEncoder()\n",
    "df[\"Credit Score\"] = target_le.fit_transform(df[\"Credit Score\"])\n",
    "\n",
    "# Séparation X / y\n",
    "X = df.drop(\"Credit Score\", axis=1)\n",
    "y = df[\"Credit Score\"]\n",
    "\n",
    "# Normalisation\n",
    "scaler = StandardScaler()\n",
    "X_scaled = scaler.fit_transform(X)\n",
    "\n",
    "# Split\n",
    "X_train, X_test, y_train, y_test = train_test_split(X_scaled, y, test_size=0.2, random_state=42)"
   ]
  },
  {
   "cell_type": "markdown",
   "id": "b0ea5348-2246-48ab-9ad3-859878ace314",
   "metadata": {},
   "source": [
    "****Modèle machine learning - Random Forest****"
   ]
  },
  {
   "cell_type": "code",
   "execution_count": 47,
   "id": "2abced7f-a290-42ea-bac8-976f789312ea",
   "metadata": {},
   "outputs": [
    {
     "name": "stdout",
     "output_type": "stream",
     "text": [
      "              precision    recall  f1-score   support\n",
      "\n",
      "           0       1.00      0.80      0.89         5\n",
      "           1       0.96      1.00      0.98        23\n",
      "           2       1.00      1.00      1.00         5\n",
      "\n",
      "    accuracy                           0.97        33\n",
      "   macro avg       0.99      0.93      0.96        33\n",
      "weighted avg       0.97      0.97      0.97        33\n",
      "\n"
     ]
    }
   ],
   "source": [
    "from sklearn.ensemble import RandomForestClassifier\n",
    "from sklearn.metrics import classification_report\n",
    "\n",
    "model = RandomForestClassifier(random_state=42)\n",
    "model.fit(X_train, y_train)\n",
    "y_pred = model.predict(X_test)\n",
    "\n",
    "print(classification_report(y_test, y_pred))"
   ]
  },
  {
   "cell_type": "markdown",
   "id": "90c00804-ca06-438e-8d32-5ea21e7b215a",
   "metadata": {},
   "source": [
    "****Modèle deep learning - TensorFlow / Keras****"
   ]
  },
  {
   "cell_type": "code",
   "execution_count": null,
   "id": "4c08d050-1d60-4df4-89e9-39e4f3fb232e",
   "metadata": {},
   "outputs": [],
   "source": [
    "#Deep Learing sur Azure ML Studio - TensFlow\n",
    "import pandas as pd\n",
    "from sklearn.model_selection import train_test_split\n",
    "from sklearn.preprocessing import LabelEncoder, StandardScaler\n",
    "from tensorflow.keras.models import Sequential\n",
    "from tensorflow.keras.layers import Dense\n",
    "\n",
    "df = pd.read_csv(\"Credit Score Classification Dataset.csv\")\n",
    "\n",
    "# Prétraitement\n",
    "for col in ['Gender', 'Education', 'Marital Status', 'Home Ownership']:\n",
    "    df[col] = LabelEncoder().fit_transform(df[col])\n",
    "df[\"Credit Score\"] = LabelEncoder().fit_transform(df[\"Credit Score\"])\n",
    "\n",
    "X = df.drop(\"Credit Score\", axis=1)\n",
    "y = df[\"Credit Score\"]\n",
    "X = StandardScaler().fit_transform(X)\n",
    "X_train, X_test, y_train, y_test = train_test_split(X, y, test_size=0.2)\n",
    "\n",
    "# Deep learning model\n",
    "model_dl = Sequential([\n",
    "    Dense(64, activation='relu', input_shape=(X_train.shape[1],)),\n",
    "    Dense(32, activation='relu'),\n",
    "    Dense(3, activation='softmax')\n",
    "])\n",
    "model_dl.compile(optimizer='adam', loss='sparse_categorical_crossentropy', metrics=['accuracy'])\n",
    "model_dl.fit(X_train, y_train, epochs=20, batch_size=16, validation_split=0.2)"
   ]
  }
 ],
 "metadata": {
  "kernelspec": {
   "display_name": "Python [conda env:base] *",
   "language": "python",
   "name": "conda-base-py"
  },
  "language_info": {
   "codemirror_mode": {
    "name": "ipython",
    "version": 3
   },
   "file_extension": ".py",
   "mimetype": "text/x-python",
   "name": "python",
   "nbconvert_exporter": "python",
   "pygments_lexer": "ipython3",
   "version": "3.12.7"
  }
 },
 "nbformat": 4,
 "nbformat_minor": 5
}
